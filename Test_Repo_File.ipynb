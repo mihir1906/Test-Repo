{
  "nbformat": 4,
  "nbformat_minor": 0,
  "metadata": {
    "colab": {
      "provenance": [],
      "authorship_tag": "ABX9TyPafFG7w4x03gGdrgFsr2d0",
      "include_colab_link": true
    },
    "kernelspec": {
      "name": "python3",
      "display_name": "Python 3"
    },
    "language_info": {
      "name": "python"
    }
  },
  "cells": [
    {
      "cell_type": "markdown",
      "metadata": {
        "id": "view-in-github",
        "colab_type": "text"
      },
      "source": [
        "<a href=\"https://colab.research.google.com/github/mihir1906/Test-Repo/blob/main/Test_Repo_File.ipynb\" target=\"_parent\"><img src=\"https://colab.research.google.com/assets/colab-badge.svg\" alt=\"Open In Colab\"/></a>"
      ]
    },
    {
      "cell_type": "code",
      "execution_count": 1,
      "metadata": {
        "colab": {
          "base_uri": "https://localhost:8080/"
        },
        "id": "2anY6VtFBPNR",
        "outputId": "47a3abe3-5a99-401b-8834-aa1f28b489e8"
      },
      "outputs": [
        {
          "output_type": "stream",
          "name": "stdout",
          "text": [
            "Mihir GUjarathi\n"
          ]
        }
      ],
      "source": [
        "print(\"Mihir GUjarathi\")"
      ]
    },
    {
      "cell_type": "code",
      "source": [
        "3+5"
      ],
      "metadata": {
        "colab": {
          "base_uri": "https://localhost:8080/"
        },
        "id": "LxHRy5U1Bd0j",
        "outputId": "ab161462-4b7d-4c82-982f-fc403208619e"
      },
      "execution_count": 2,
      "outputs": [
        {
          "output_type": "execute_result",
          "data": {
            "text/plain": [
              "8"
            ]
          },
          "metadata": {},
          "execution_count": 2
        }
      ]
    },
    {
      "cell_type": "code",
      "source": [
        "777777777-3333333"
      ],
      "metadata": {
        "colab": {
          "base_uri": "https://localhost:8080/"
        },
        "id": "8xz4Lk2UCBxG",
        "outputId": "584124e3-6adc-4f7d-a300-d271d50adeb2"
      },
      "execution_count": 3,
      "outputs": [
        {
          "output_type": "execute_result",
          "data": {
            "text/plain": [
              "774444444"
            ]
          },
          "metadata": {},
          "execution_count": 3
        }
      ]
    },
    {
      "cell_type": "markdown",
      "source": [
        "Testing purpose"
      ],
      "metadata": {
        "id": "-1cBJ5xwCPpp"
      }
    },
    {
      "cell_type": "code",
      "source": [],
      "metadata": {
        "id": "K9x68LBUCDky"
      },
      "execution_count": null,
      "outputs": []
    }
  ]
}