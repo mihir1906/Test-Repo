{
  "nbformat": 4,
  "nbformat_minor": 0,
  "metadata": {
    "colab": {
      "provenance": []
    },
    "kernelspec": {
      "name": "python3",
      "display_name": "Python 3"
    },
    "language_info": {
      "name": "python"
    }
  },
  "cells": [
    {
      "cell_type": "code",
      "execution_count": null,
      "metadata": {
        "id": "Q_GJF4HoCisD"
      },
      "outputs": [],
      "source": []
    },
    {
      "cell_type": "markdown",
      "source": [
        "Lesssgooooooooooooooooooooooo\n"
      ],
      "metadata": {
        "id": "-vVL03nBCpPV"
      }
    },
    {
      "cell_type": "code",
      "source": [
        "6-9"
      ],
      "metadata": {
        "colab": {
          "base_uri": "https://localhost:8080/"
        },
        "id": "p40RLQXYCqZV",
        "outputId": "1f5998eb-6731-40f9-f5d2-79bc9f41635e"
      },
      "execution_count": 1,
      "outputs": [
        {
          "output_type": "execute_result",
          "data": {
            "text/plain": [
              "-3"
            ]
          },
          "metadata": {},
          "execution_count": 1
        }
      ]
    },
    {
      "cell_type": "code",
      "source": [],
      "metadata": {
        "id": "UojAtzfuCrbF"
      },
      "execution_count": null,
      "outputs": []
    }
  ]
}